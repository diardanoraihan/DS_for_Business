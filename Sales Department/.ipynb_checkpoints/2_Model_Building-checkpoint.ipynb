{
 "cells": [
  {
   "cell_type": "markdown",
   "metadata": {},
   "source": [
    "# Facebook Prophet"
   ]
  },
  {
   "cell_type": "markdown",
   "metadata": {},
   "source": [
    "## Intuition"
   ]
  },
  {
   "cell_type": "markdown",
   "metadata": {},
   "source": [
    "__Prophet__ is an open source software released by Facebook's Core Data Science Team as a procedure for forecasting time series data based on an additive model where non-linear trends are fit with yearly, weekly and daily seasonality, plus holiday effects.\n",
    "\n",
    "Prophet works best with time series data that have strong seasonal effects and several seasons of historical data, such as:\n",
    "- Sales three years in the past with all the seasonalities in there (holidays, weekend, weather, etc).\n",
    "- With all these information, the model can predict the expected sales may be in the next two months. \n",
    "\n",
    "The model is pretty accurate, and therefore Facebook itself uses this tool internally to do the planning like:\n",
    "- demand planning in the future,\n",
    "- number of customers forecasting model to visit the site at the specific time in the future.\n",
    "\n",
    "For more information, please check this out:\n",
    "- https://research.fb.com/prophet-forecasting-at-scale/\n",
    "- https://facebook.github.io/prophet/docs/quick_start.html#python-api"
   ]
  },
  {
   "cell_type": "markdown",
   "metadata": {},
   "source": [
    "## Technical"
   ]
  },
  {
   "cell_type": "markdown",
   "metadata": {},
   "source": [
    "__Prophet__ implements an __additive regression__ model with four elements:\n",
    "1. A piecewise linear, Prophet automatically picks up change points in the data and identifies any change in trends.\n",
    "2. A yearly seasonal component modeled using Fourier series.\n",
    "3. A weekely seasonal component.\n",
    "4. A holiday list that can be manually provided.\n",
    "\n",
    "Additive Regression model takes the form: \n",
    "\n",
    "\n",
    "- The functions f1(x) are unknown smoothing functions fit from the data.\n",
    "- Reference: https://research.fb.com/prophet-forecasting-at-scale/"
   ]
  },
  {
   "cell_type": "markdown",
   "metadata": {},
   "source": [
    "## Advantages"
   ]
  },
  {
   "cell_type": "markdown",
   "metadata": {},
   "source": [
    "### Accurate and Fast\n",
    "- Facebook teams uses Prophet for accurate forecasting and planning.\n",
    "- Prophet can generate results in seconds.\n",
    "\n",
    "### Automatic\n",
    "- No need to perform data preprocessing.\n",
    "- Prophet works with missing data with several outliers.\n",
    "\n",
    "### Domain Knowledge Integrarion\n",
    "- Users can tweak forecast by manually adding domain specific knowledge, such as holidays that can be added manually."
   ]
  },
  {
   "cell_type": "markdown",
   "metadata": {},
   "source": [
    "# Model Building"
   ]
  },
  {
   "cell_type": "code",
   "execution_count": null,
   "metadata": {},
   "outputs": [],
   "source": []
  },
  {
   "cell_type": "code",
   "execution_count": null,
   "metadata": {},
   "outputs": [],
   "source": []
  },
  {
   "cell_type": "code",
   "execution_count": null,
   "metadata": {},
   "outputs": [],
   "source": []
  },
  {
   "cell_type": "code",
   "execution_count": null,
   "metadata": {},
   "outputs": [],
   "source": []
  },
  {
   "cell_type": "code",
   "execution_count": null,
   "metadata": {},
   "outputs": [],
   "source": []
  }
 ],
 "metadata": {
  "kernelspec": {
   "display_name": "Python 3",
   "language": "python",
   "name": "python3"
  },
  "language_info": {
   "codemirror_mode": {
    "name": "ipython",
    "version": 3
   },
   "file_extension": ".py",
   "mimetype": "text/x-python",
   "name": "python",
   "nbconvert_exporter": "python",
   "pygments_lexer": "ipython3",
   "version": "3.7.9"
  }
 },
 "nbformat": 4,
 "nbformat_minor": 4
}
